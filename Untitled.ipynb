{
 "cells": [
  {
   "cell_type": "code",
   "execution_count": 2,
   "metadata": {},
   "outputs": [
    {
     "name": "stderr",
     "output_type": "stream",
     "text": [
      "WARNING: Logging before flag parsing goes to stderr.\n",
      "W0518 10:31:54.406211 140021535967040 __init__.py:56] Some hub symbols are not available because TensorFlow version is less than 1.14\n"
     ]
    }
   ],
   "source": [
    "import os\n",
    "import pandas as pd\n",
    "import tensorflow as tf\n",
    "import tensorflow_hub as hub\n",
    "\n",
    "from bert.tokenization import FullTokenizer"
   ]
  },
  {
   "cell_type": "code",
   "execution_count": 36,
   "metadata": {},
   "outputs": [],
   "source": [
    "BERT_MODEL_URL = \"https://tfhub.dev/google/bert_uncased_L-12_H-768_A-12/1\"\n",
    "MAX_SEQ_LEN = 512"
   ]
  },
  {
   "cell_type": "code",
   "execution_count": 37,
   "metadata": {},
   "outputs": [],
   "source": [
    "\n",
    "bert_model = hub.Module(\n",
    "    bert_path,\n",
    "    trainable=False,\n",
    "    name=\"bert_module\"\n",
    ")"
   ]
  },
  {
   "cell_type": "code",
   "execution_count": 29,
   "metadata": {},
   "outputs": [
    {
     "ename": "TypeError",
     "evalue": "Cannot convert dict_inputs: missing ['input_mask', 'segment_ids'], extra given []",
     "output_type": "error",
     "traceback": [
      "\u001b[0;31m---------------------------------------------------------------------------\u001b[0m",
      "\u001b[0;31mTypeError\u001b[0m                                 Traceback (most recent call last)",
      "\u001b[0;32m<ipython-input-29-c8fe3bb707e3>\u001b[0m in \u001b[0;36m<module>\u001b[0;34m()\u001b[0m\n\u001b[1;32m      6\u001b[0m   \u001b[0minputs\u001b[0m\u001b[0;34m=\u001b[0m\u001b[0mbert_inputs\u001b[0m\u001b[0;34m,\u001b[0m\u001b[0;34m\u001b[0m\u001b[0m\n\u001b[1;32m      7\u001b[0m   \u001b[0msignature\u001b[0m\u001b[0;34m=\u001b[0m\u001b[0;34m\"tokens\"\u001b[0m\u001b[0;34m,\u001b[0m\u001b[0;34m\u001b[0m\u001b[0m\n\u001b[0;32m----> 8\u001b[0;31m   \u001b[0mas_dict\u001b[0m\u001b[0;34m=\u001b[0m\u001b[0;32mTrue\u001b[0m\u001b[0;34m\u001b[0m\u001b[0m\n\u001b[0m\u001b[1;32m      9\u001b[0m )\n",
      "\u001b[0;32m~/anaconda3/envs/tensorflow_p36/lib/python3.6/site-packages/tensorflow_hub/module.py\u001b[0m in \u001b[0;36m__call__\u001b[0;34m(self, inputs, _sentinel, signature, as_dict)\u001b[0m\n\u001b[1;32m    243\u001b[0m     dict_inputs = _convert_dict_inputs(\n\u001b[1;32m    244\u001b[0m         inputs, self._spec.get_input_info_dict(signature=signature,\n\u001b[0;32m--> 245\u001b[0;31m                                                tags=self._tags))\n\u001b[0m\u001b[1;32m    246\u001b[0m \u001b[0;34m\u001b[0m\u001b[0m\n\u001b[1;32m    247\u001b[0m     dict_outputs = self._impl.create_apply_graph(\n",
      "\u001b[0;32m~/anaconda3/envs/tensorflow_p36/lib/python3.6/site-packages/tensorflow_hub/module.py\u001b[0m in \u001b[0;36m_convert_dict_inputs\u001b[0;34m(inputs, tensor_info_map)\u001b[0m\n\u001b[1;32m    443\u001b[0m       \u001b[0mto\u001b[0m \u001b[0mfeed\u001b[0m \u001b[0mto\u001b[0m \u001b[0mthe\u001b[0m \u001b[0msignature\u001b[0m \u001b[0minstantiation\u001b[0m\u001b[0;34m.\u001b[0m\u001b[0;34m\u001b[0m\u001b[0m\n\u001b[1;32m    444\u001b[0m   \"\"\"\n\u001b[0;32m--> 445\u001b[0;31m   \u001b[0mdict_inputs\u001b[0m \u001b[0;34m=\u001b[0m \u001b[0m_prepare_dict_inputs\u001b[0m\u001b[0;34m(\u001b[0m\u001b[0minputs\u001b[0m\u001b[0;34m,\u001b[0m \u001b[0mtensor_info_map\u001b[0m\u001b[0;34m)\u001b[0m\u001b[0;34m\u001b[0m\u001b[0m\n\u001b[0m\u001b[1;32m    446\u001b[0m   return tensor_info.convert_dict_to_compatible_tensor(dict_inputs,\n\u001b[1;32m    447\u001b[0m                                                        tensor_info_map)\n",
      "\u001b[0;32m~/anaconda3/envs/tensorflow_p36/lib/python3.6/site-packages/tensorflow_hub/module.py\u001b[0m in \u001b[0;36m_prepare_dict_inputs\u001b[0;34m(inputs, tensor_info_map)\u001b[0m\n\u001b[1;32m    417\u001b[0m     raise TypeError(\"Cannot convert dict_inputs: missing %r, extra given %r\" %\n\u001b[1;32m    418\u001b[0m                     (sorted(list(tensor_info_map_keys - dict_inputs_keys)),\n\u001b[0;32m--> 419\u001b[0;31m                      sorted(list(dict_inputs_keys - tensor_info_map_keys))))\n\u001b[0m\u001b[1;32m    420\u001b[0m \u001b[0;34m\u001b[0m\u001b[0m\n\u001b[1;32m    421\u001b[0m   \u001b[0;32mreturn\u001b[0m \u001b[0mdict_inputs\u001b[0m\u001b[0;34m\u001b[0m\u001b[0m\n",
      "\u001b[0;31mTypeError\u001b[0m: Cannot convert dict_inputs: missing ['input_mask', 'segment_ids'], extra given []"
     ]
    }
   ],
   "source": [
    "bert_inputs = dict(\n",
    "  input_ids=[2034, 2017, 2342, 2079, 2079, 2009],\n",
    "  input_mask=input_mask,\n",
    "  segment_ids=segment_ids\n",
    ")\n",
    "    \n",
    "bert_model(\n",
    "  inputs=bert_inputs,\n",
    "  signature=\"tokens\",\n",
    "  as_dict=True\n",
    ")"
   ]
  },
  {
   "cell_type": "code",
   "execution_count": 38,
   "metadata": {},
   "outputs": [
    {
     "data": {
      "text/plain": [
       "['first', 'you', 'need', 'do', 'do', 'it']"
      ]
     },
     "execution_count": 38,
     "metadata": {},
     "output_type": "execute_result"
    }
   ],
   "source": [
    "tokenizer.tokenize(\"first you need do do it\")"
   ]
  },
  {
   "cell_type": "code",
   "execution_count": 97,
   "metadata": {},
   "outputs": [],
   "source": [
    "from itertools import chain\n",
    "\n",
    "\n",
    "def flatten(ls):\n",
    "    \"\"\"\n",
    "    Flatten one level of nesting\n",
    "    \"\"\"\n",
    "    return chain.from_iterable(ls)\n",
    "\n",
    "\n",
    "def timeit(f):\n",
    "    @wraps(f)\n",
    "    def timed(*args, **kw):\n",
    "        ts = time.time()\n",
    "        result = f(*args, **kw)\n",
    "        te = time.time()\n",
    "        print(f\"'{f.__name__}' {round(te - ts, 2)} s\")\n",
    "        return result\n",
    "    return timed\n",
    "\n",
    "\n",
    "def calc_num_batches(total_num, batch_size):\n",
    "    \"\"\"\n",
    "    Calculates the number of batches, allowing for remainders.\n",
    "    \"\"\"\n",
    "    return total_num // batch_size + int(total_num % batch_size != 0)"
   ]
  },
  {
   "cell_type": "markdown",
   "metadata": {},
   "source": [
    "DATA LOAD"
   ]
  },
  {
   "cell_type": "code",
   "execution_count": 157,
   "metadata": {},
   "outputs": [
    {
     "name": "stderr",
     "output_type": "stream",
     "text": [
      "/home/ec2-user/anaconda3/envs/tensorflow_p36/lib/python3.6/site-packages/ipykernel/__main__.py:121: DeprecationWarning: invalid escape sequence '\\ '\n"
     ]
    },
    {
     "name": "stdout",
     "output_type": "stream",
     "text": [
      "INFO:tensorflow:Saver not created because there are no variables in the graph to restore\n"
     ]
    },
    {
     "name": "stderr",
     "output_type": "stream",
     "text": [
      "I0518 17:18:17.724114 140021535967040 saver.py:1489] Saver not created because there are no variables in the graph to restore\n"
     ]
    },
    {
     "name": "stdout",
     "output_type": "stream",
     "text": [
      "'prepare_data' 33.14 s\n"
     ]
    }
   ],
   "source": [
    "import re\n",
    "import time\n",
    "import glob\n",
    "import shutil\n",
    "import logging\n",
    "import pickle\n",
    "import numpy as np\n",
    "\n",
    "from collections import namedtuple\n",
    "from itertools import count\n",
    "from functools import partial\n",
    "from functools import reduce\n",
    "from functools import wraps\n",
    "\n",
    "from tensorflow.core.example import example_pb2\n",
    "from tqdm import tqdm\n",
    "\n",
    "\n",
    "logging.basicConfig(level=logging.INFO)\n",
    "\n",
    "logger = logging.getLogger()\n",
    "\n",
    "\n",
    "\n",
    "SENTENCE_START = '<s>'\n",
    "SENTENCE_END = '</s>'\n",
    "\n",
    "BERT_MODEL_URL = \"https://tfhub.dev/google/bert_uncased_L-12_H-768_A-12/1\"\n",
    "MAX_SEQ_LEN = 512\n",
    "\n",
    "        \n",
    "InputExample = namedtuple('InputExample', ['guid', 'text_a', 'text_b'])\n",
    "\n",
    "InputFeatures = namedtuple('InputFeatures', ['guid', 'tokens', 'input_ids', 'input_mask', 'input_type_ids'])\n",
    "\n",
    "        \n",
    "def pad(l, n, pad):\n",
    "    \"\"\"\n",
    "    Pad the list 'l' to have size 'n' using 'padding_element'\n",
    "    \"\"\"\n",
    "    return l + [pad] * (n - len(l))\n",
    "           \n",
    "\n",
    "def convert_single_example(tokenizer, example, max_seq_len=256):\n",
    "    \"\"\"\n",
    "    Convert `text` to the Bert input format\n",
    "    \"\"\"\n",
    "    tokens = tokenizer.tokenize(example.text_a)\n",
    "    \n",
    "    if len(tokens) > max_seq_len - 2:\n",
    "        tokens = tokens[0:(max_seq_len - 2)]\n",
    "        \n",
    "    tokens = ['[CLS]'] + tokens + ['[SEP]']\n",
    "\n",
    "    input_ids = tokenizer.convert_tokens_to_ids(tokens)\n",
    "    input_type_ids = [0] * len(input_ids)\n",
    "    input_mask = [1] * len(input_ids)\n",
    "    \n",
    "    input_ids = pad(input_ids, max_seq_len, 0)\n",
    "    input_type_ids = pad(input_type_ids, max_seq_len, 0)\n",
    "    input_mask = pad(input_mask, max_seq_len, 0)\n",
    "        \n",
    "    return tokens, input_ids, input_mask, input_type_ids\n",
    "    \n",
    "    \n",
    "\n",
    "def convert_examples_to_features(tokenizer, examples, max_seq_len=256):\n",
    "    \"\"\"\n",
    "    Convert raw features to Bert specific representation\n",
    "    \"\"\"\n",
    "    converter = partial(convert_single_example, tokenizer=tokenizer, max_seq_len=max_seq_len)\n",
    "    examples = [converter(example=example) for example in examples]\n",
    "    return examples\n",
    "\n",
    "\n",
    "def create_tokenizer_from_hub_module(bert_hub_url):\n",
    "    \"\"\"\n",
    "    Get the vocab file and casing info from the Hub module.\n",
    "    \"\"\"\n",
    "    bert_module = hub.Module(bert_hub_url)\n",
    "    tokenization_info = bert_module(signature=\"tokenization_info\", as_dict=True)\n",
    "\n",
    "    with tf.Session() as sess:\n",
    "        vocab_file, do_lower_case = sess.run([\n",
    "            tokenization_info[\"vocab_file\"],\n",
    "            tokenization_info[\"do_lower_case\"]\n",
    "        ])\n",
    "        \n",
    "    return FullTokenizer(vocab_file=vocab_file, do_lower_case=do_lower_case)\n",
    "\n",
    "\n",
    "def abstract2sents(abstract):\n",
    "    \"\"\"\n",
    "    # Use the <s> and </s> tags in abstract to get a list of sentences.\n",
    "    \"\"\"\n",
    "    sentences_pattern = re.compile(r\"<s>(.+?)<\\/s>\")\n",
    "    sentences = sentences_pattern.findall(abstract)\n",
    "    return sentences\n",
    "\n",
    "\n",
    "def _load_single(file):\n",
    "    \"\"\"\n",
    "    Opens and prepares a single chunked file\n",
    "    \"\"\"\n",
    "    article_texts = []\n",
    "    abstract_texts = []\n",
    "    \n",
    "    with open(file, 'rb') as f:\n",
    "    \n",
    "        while True:\n",
    "            \n",
    "            len_bytes = f.read(8)\n",
    "\n",
    "            if not len_bytes:\n",
    "                break\n",
    "\n",
    "            str_len = struct.unpack('q', len_bytes)[0]\n",
    "            str_bytes = struct.unpack('%ds' % str_len, f.read(str_len))[0]\n",
    "            example = example_pb2.Example.FromString(str_bytes) \n",
    "\n",
    "            article_text = example.features.feature['article'].bytes_list.value[0].decode('unicode_escape').strip()\n",
    "            abstract_text = example.features.feature['abstract'].bytes_list.value[0].decode('unicode_escape').strip()\n",
    "            abstract_text = ' '.join([sent.strip() for sent in abstract2sents(abstract_text)])\n",
    "\n",
    "            article_texts.append(article_text)\n",
    "            abstract_texts.append(abstract_text)\n",
    "        \n",
    "    return article_texts, abstract_texts\n",
    "\n",
    "\n",
    "\n",
    "def load_data(files):\n",
    "    \"\"\"\n",
    "    Reads binary data and returns chuncks of [(articles, summaries)]\n",
    "    \"\"\"\n",
    "    logger.info(f\"'{len(files)}' files found\")\n",
    "    data = [_load_single(file) for file in files]\n",
    "    articles = sum([a for a, _ in data], [])\n",
    "    summaries = sum([b for _, b in data], [])\n",
    "    return articles, summaries\n",
    "\n",
    "\n",
    "def convert_single_example(example, tokenizer, max_seq_len=MAX_SEQ_LEN):\n",
    "    \"\"\"\n",
    "    Convert `text` to the Bert input format\n",
    "    \"\"\"\n",
    "    tokens = tokenizer.tokenize(example)\n",
    "    \n",
    "    if len(tokens) > max_seq_len - 2:\n",
    "        tokens = tokens[0:(max_seq_len - 2)]\n",
    "        \n",
    "    tokens = ['[CLS]'] + tokens + ['[SEP]']\n",
    "\n",
    "    input_ids = tokenizer.convert_tokens_to_ids(tokens)\n",
    "    input_type_ids = [0] * len(input_ids)\n",
    "    input_mask = [1] * len(input_ids)\n",
    "    \n",
    "    input_ids = pad(input_ids, max_seq_len, 0)\n",
    "    input_type_ids = pad(input_type_ids, max_seq_len, 0)\n",
    "    input_mask = pad(input_mask, max_seq_len, 0)\n",
    "        \n",
    "    return tokens, input_ids, input_mask, input_type_ids\n",
    "\n",
    "\n",
    "def generator_fn(sents1, sents2, tokenizer):\n",
    "    \"\"\"\n",
    "    Generates training / evaluation data\n",
    "    raw_data: list of (abstracts, raw_data)\n",
    "    tokenizer: tokenizer to separate the different tokens\n",
    "    yields\n",
    "    xs: tuple of\n",
    "        x: list of source token ids in a sent\n",
    "        x_seqlen: int. sequence length of x\n",
    "        sent1: str. raw source (=input) sentence\n",
    "    ys: tuple of\n",
    "        decoder_input: decoder_input: list of encoded decoder inputs\n",
    "        y: list of target token ids in a sent\n",
    "        y_seqlen: int. sequence length of y\n",
    "        sent2: str. target sentence\n",
    "    \"\"\"    \n",
    "    for article, summary in zip(sents1, sents2):\n",
    "        tokens_x, input_ids_x, input_mask_x, input_type_ids_x = convert_single_example(article, tokenizer)\n",
    "        tokens_y, input_ids_y, input_mask_y, input_type_ids_y = convert_single_example(summary, tokenizer)\n",
    "        \n",
    "        x_seqlen, y_seqlen = len(tokens_x), len(tokens_y)\n",
    "        \n",
    "        yield (input_ids_x, input_mask_x, input_type_ids_x, x_seqlen, article), (input_ids_y, input_mask_y, input_type_ids_y, y_seqlen, summary)\n",
    "    \n",
    "    \n",
    "def input_fn(sents1, sents2, tokenizer, batch_size, shuffle=False):\n",
    "    \"\"\"\n",
    "    Batchify data\n",
    "    raw_data [(artciles, abstracts)]\n",
    "    batch_size: scalar\n",
    "    shuffle: boolean\n",
    "\n",
    "    Returns\n",
    "    xs: tuple of\n",
    "        x: int32 tensor. (N, T1)\n",
    "        x_seqlens: int32 tensor. (N,)\n",
    "        sents1: str tensor. (N,)\n",
    "    ys: tuple of\n",
    "        decoder_input: int32 tensor. (N, T2)\n",
    "        y: int32 tensor. (N, T2)\n",
    "        y_seqlen: int32 tensor. (N, )\n",
    "        sents2: str tensor. (N,)\n",
    "    \"\"\"\n",
    "    shapes = (\n",
    "        ([None], [None], [None], (), ()),\n",
    "        ([None], [None], [None], (), ())\n",
    "    )\n",
    "    \n",
    "    types = (\n",
    "        (tf.int32, tf.int32, tf.int32, tf.int32, tf.string),\n",
    "        (tf.int32, tf.int32, tf.int32, tf.int32, tf.string)\n",
    "    )\n",
    "    \n",
    "    paddings = (\n",
    "        (0, 0, 0, 0, ''),\n",
    "        (0, 0, 0, 0, '')\n",
    "    )\n",
    "\n",
    "    dataset = tf.data.Dataset.from_generator(\n",
    "        partial(generator_fn, tokenizer=tokenizer),\n",
    "        output_shapes=shapes,\n",
    "        output_types=types,\n",
    "        args=(sents1, sents2))  # <- arguments for generator_fn. converted to np string arrays\n",
    "\n",
    "    if shuffle: # for training\n",
    "        dataset = dataset.shuffle(128*batch_size)\n",
    "\n",
    "    dataset = dataset.repeat()  # iterate forever\n",
    "    dataset = dataset.padded_batch(batch_size, shapes, paddings).prefetch(1)\n",
    "\n",
    "    return dataset    \n",
    "    \n",
    "    \n",
    "@timeit\n",
    "def prepare_data(inputpath, batch_size, shuffle=False):\n",
    "    \"\"\"\n",
    "    \"\"\"\n",
    "    files = glob.glob(inputpath + '*.bin')[:2]\n",
    "                \n",
    "    sents1, sents2 = load_data(files)\n",
    "    \n",
    "    tokenizer = create_tokenizer_from_hub_module(BERT_MODEL_URL)        \n",
    "\n",
    "    batches = input_fn(sents1, sents2, tokenizer, batch_size, shuffle=shuffle)\n",
    "    \n",
    "    num_batches = calc_num_batches(len(sents1), batch_size)\n",
    "    \n",
    "    return batches, num_batches, len(sents1)    \n",
    "    \n",
    "     \n",
    "docs = [\n",
    "    'First you need to try',\n",
    "    'Then you need to try it harder'\n",
    "]        \n",
    "    \n",
    "batches, num_batches, num_samples = prepare_data(\n",
    "    inputpath='data/cnn-dm/chunked/train/',\n",
    "    batch_size=12\n",
    ")    \n",
    "\n"
   ]
  },
  {
   "cell_type": "code",
   "execution_count": 158,
   "metadata": {},
   "outputs": [],
   "source": [
    "iterator = batches.make_one_shot_iterator()\n",
    "\n",
    "tmp = iterator.get_next()\n",
    "\n",
    "with tf.Session() as session:\n",
    "    \n",
    "    tmp2 = session.run(tmp)"
   ]
  },
  {
   "cell_type": "code",
   "execution_count": 159,
   "metadata": {},
   "outputs": [
    {
     "data": {
      "text/plain": [
       "array([  101,  2011,  1012,  3679,  5653,  6398,  1012,  2405,  1024,\n",
       "        1012,  5757,  1024,  4720,  9765,  1010,  2603,  2257,  2286,\n",
       "        1012,  1064,  1012,  7172,  1024,  1012,  2410,  1024,  2459,\n",
       "        9765,  1010,  2603,  2257,  2286,  1012,  2010, 29536, 22648,\n",
       "        6313, 18923,  1998,  2293,  1997,  2035,  2477,  2474, 17460,\n",
       "        2150,  1996,  4933,  1997,  5722,  1012,  3021,  7207,  1005,\n",
       "        1055,  4990,  2000,  1996,  2317,  2160,  2001,  2056,  2000,\n",
       "        2031,  2042,  4762,  3709,  2011,  1037,  8738,  5398,  1997,\n",
       "        6240,  1010,  2413, 22201,  1010,  5699,  1998,  2210,  2842,\n",
       "        1012,  2028, 25297, 17722,  2129,  1996,  1020,  6199,  1016,\n",
       "        7076,  7207,  2071,  4702,  2091,  2416, 15960, 24494,  2015,\n",
       "        1037,  2154,  1998,  2001,  2124,  2000,  2175, 11362,  2431,\n",
       "        1037, 16876,  9850,  1999,  1037,  2309,  3564,  1012,  3021,\n",
       "        7207,  1005,  1055,  3532,  8738,  2003,  1996,  4933,  1997,\n",
       "        5722,  1010,  2021,  2028, 23626,  2317,  2160, 10026,  2038,\n",
       "        2409,  2129,  2002,  2404,  2032,  2006,  3595,  8738,  2011,\n",
       "        4526,  2659,  1011,  6638, 15955,  1997,  8837, 10447,  1012,\n",
       "        2178,  2466,  4136,  1997,  2019, 14895,  2383,  2000,  3357,\n",
       "        1999,  2044,  2002,  4149,  1037,  6474, 23126, 24072,  2015,\n",
       "        2076,  1037,  3049,  2644,  1999,  2047,  7035,  2000,  4652,\n",
       "        2032,  3907,  2075,  2125,  1996,  2843,  1012,  2085,  2028,\n",
       "       23626,  2280,  2317,  2160, 10026,  2038,  3936,  2129,  2002,\n",
       "        2001,  2583,  2000,  7966,  1996,  2343,  2011, 10082, 11426,\n",
       "        2659,  1011,  6638, 12760,  2046,  2010,  8837, 10447,  1012,\n",
       "       12578, 12256, 11239,  7174,  2001,  2061,  4986,  2002,  2453,\n",
       "        2022,  8020,  2000,  1996,  2220,  2331,  1997,  1037,  2343,\n",
       "        2008,  2002,  2211, 23781,  1036,  2066,  1037,  5506,  7155,\n",
       "        1005,  2007,  7965, 15955,  1012, 18015,  2833,  5470,  1024,\n",
       "        2343,  7207,  1998,  2034,  3203, 18520,  5959,  2980, 16168,\n",
       "        2015,  2012,  1996,  2047,  2259,  2110,  4189,  1999,  2456,\n",
       "        1012,  6240,  1996,  2343,  1024,  7207, 20776,  2000,  2482,\n",
       "        3726,  1037,  4977,  2006, 15060,  1999,  3409,  2585,  1999,\n",
       "        2456,  1012,  2002,  2211,  2478,  5760,  2098,  5785,  3816,\n",
       "        2007,  1012,  6501,  2004,  1037,  7681,  2005,  6949,  1010,\n",
       "       25176, 19351,  2612,  1997, 12486,  4518,  1010,  2000, 11263,\n",
       "        1012,  2612,  1997,  8808,  1998, 11867,  7770,  2850,  2612,\n",
       "        1997,  5699,  1012, 12760,  1024,  1012,  4118,  1024,  1012,\n",
       "        1999,  2857,  1010,  2034,  3203, 18520,  7207,  1010,  1012,\n",
       "        2150,  2061,  4986,  2055,  2014,  3129,  1005,  1055,  7279,\n",
       "       14856,  2102,  2005, 18015,  2833,  1010,  1012,  2008,  2016,\n",
       "        2716,  1999,  8738, 11972,  2852,  1012,  4670,  2030, 24014,\n",
       "        2000,  2147,  2007,  1996,  2317,  1012,  2160, 27828,  2040,\n",
       "        2020,  2109,  2000,  8225, 10250, 10050,  2063,  1011, 14887,\n",
       "        2413, 12846,  1012,  2362,  2027,  2580,  1037,  7965, 12183,\n",
       "        2007, 10447,  2066, 16130, 14744, 11546,  2007,  2000, 11263,\n",
       "        1010,  1998, 11840,  2007, 11546,  1012,  2320,  2044,  8225,\n",
       "        1037, 20355,  1011,  2559, 10768,  4779, 16835,  2638, 19423,\n",
       "       11753,  2005,  1996,  7207,  2015,  2012,  3409,  2585,  1010,\n",
       "        2720, 12256, 11239,  7174,  2001, 11908,  2000,  1996,  2795,\n",
       "        2011,  4986, 22744,  1012,  1999,  2019,  4357,  2007,  1996,\n",
       "        2899,  2695,  1010,  2720, 12256, 11239,  7174, 17722,  1037,\n",
       "       15610,  4129,  2032,  1024,  1036,  2016,  4122,  2000,  2156,\n",
       "        2017,  2041,  2045,  1012, 12043,  1010,  2017,  1005,  2128,\n",
       "        2175,  2078,  6583,  2131,  5045,  1012,  1005,  1036,  2016,\n",
       "        2056,  1010,  1036,  1036,  2298,  1010,  2045,  1005,  1055,\n",
       "        6949,  1010,  2045,  1005,  1055,  8808,  1011,  1011,  2122,\n",
       "        2477,  2024,  6206,  1012,  1005,  1005,  1998,   102],\n",
       "      dtype=int32)"
      ]
     },
     "execution_count": 159,
     "metadata": {},
     "output_type": "execute_result"
    }
   ],
   "source": [
    "tmp2[0][0][11]\n"
   ]
  },
  {
   "cell_type": "code",
   "execution_count": 133,
   "metadata": {},
   "outputs": [
    {
     "data": {
      "text/plain": [
       "5"
      ]
     },
     "execution_count": 133,
     "metadata": {},
     "output_type": "execute_result"
    }
   ],
   "source": [
    "len(tmp2[0])"
   ]
  },
  {
   "cell_type": "code",
   "execution_count": 30,
   "metadata": {},
   "outputs": [
    {
     "data": {
      "text/plain": [
       "[\" mentally ill inmates in miami are housed on the `` forgotten floor '' \",\n",
       " \" judge steven leifman says most are there as a result of `` avoidable felonies '' \",\n",
       " \" while cnn tours facility , patient shouts : `` i am the son of the president '' \",\n",
       " \" leifman says the system is unjust and he 's fighting for change . \"]"
      ]
     },
     "execution_count": 30,
     "metadata": {},
     "output_type": "execute_result"
    }
   ],
   "source": [
    "import re\n",
    "\n",
    "text = \"\"\"\n",
    "<s> mentally ill inmates in miami are housed on the `` forgotten floor '' </s> <s> judge steven leifman says most are there as a result of `` avoidable felonies '' </s> <s> while cnn tours facility , patient shouts : `` i am the son of the president '' </s> <s> leifman says the system is unjust and he 's fighting for change . </s>\n",
    "\"\"\"\n",
    "\n",
    "abstract_sentences = re.compile(r\"<s>(.+?)<\\/s>\")\n",
    "\n",
    "abstract_sentences.findall(text)"
   ]
  },
  {
   "cell_type": "code",
   "execution_count": 116,
   "metadata": {},
   "outputs": [
    {
     "name": "stdout",
     "output_type": "stream",
     "text": [
      "[1, 2, 3]\n"
     ]
    },
    {
     "data": {
      "text/plain": [
       "[[1], [2], [3], 4, 5, 6, [1], [2], [3], 4, 5, 6]"
      ]
     },
     "execution_count": 116,
     "metadata": {},
     "output_type": "execute_result"
    }
   ],
   "source": [
    "a = [[1],[2],[3]]\n",
    "b = [4,5,6]\n",
    "\n",
    "print(sum(a, []))\n",
    "\n",
    "tmp = ((a, b) for i in [a, b])\n",
    "list(flatten(flatten(tmp)))"
   ]
  },
  {
   "cell_type": "code",
   "execution_count": null,
   "metadata": {},
   "outputs": [],
   "source": [
    "train = convert_examples_to_features(tokenizer, train_examples, max_seq_length=MAX_SEQ_LEN)\n",
    "train_input_ids, train_input_masks, train_segment_ids, train_labels = train"
   ]
  },
  {
   "cell_type": "code",
   "execution_count": 35,
   "metadata": {},
   "outputs": [
    {
     "data": {
      "text/plain": [
       "<module 'bert.run_classifier' from '/home/ec2-user/anaconda3/envs/tensorflow_p36/lib/python3.6/site-packages/bert/run_classifier.py'>"
      ]
     },
     "execution_count": 35,
     "metadata": {},
     "output_type": "execute_result"
    }
   ],
   "source": [
    "bert.run_classifier"
   ]
  },
  {
   "cell_type": "code",
   "execution_count": 49,
   "metadata": {},
   "outputs": [
    {
     "data": {
      "text/plain": [
       "[1, 1, 1, 1]"
      ]
     },
     "execution_count": 49,
     "metadata": {},
     "output_type": "execute_result"
    }
   ],
   "source": [
    "def load_data(fpath1, fpath2, maxlen1, maxlen2):\n",
    "    '''Loads source and target data and filters out too lengthy samples.\n",
    "    fpath1: source file path. string.\n",
    "    fpath2: target file path. string.\n",
    "    maxlen1: source sent maximum length. scalar.\n",
    "    maxlen2: target sent maximum length. scalar.\n",
    "    Returns\n",
    "    sents1: list of source sents\n",
    "    sents2: list of target sents\n",
    "    '''\n",
    "    sents1, sents2 = [], []\n",
    "    with open(fpath1, 'r') as f1, open(fpath2, 'r') as f2:\n",
    "        for sent1, sent2 in zip(f1, f2):\n",
    "            if len(sent1.split()) + 1 > maxlen1: continue # 1: </s>\n",
    "            if len(sent2.split()) + 1 > maxlen2: continue  # 1: </s>\n",
    "            sents1.append(sent1.strip())\n",
    "            sents2.append(sent2.strip())\n",
    "    return sents1, sents2\n"
   ]
  },
  {
   "cell_type": "code",
   "execution_count": 12,
   "metadata": {},
   "outputs": [
    {
     "name": "stdout",
     "output_type": "stream",
     "text": [
      "b\"\\n\\xd6#\\n\\xdf\\x02\\n\\x08abstract\\x12\\xd2\\x02\\n\\xcf\\x02\\n\\xcc\\x02<s> mentally ill inmates in miami are housed on the `` forgotten floor '' </s> <s> judge steven leifman says most are there as a result of `` avoidable felonies '' </s> <s> while cnn tours facility , patient shouts : `` i am the son of the president '' </s> <s> leifman says the system is unjust and he 's fighting for change . </s>\\n\\xf1 \\n\\x07article\\x12\\xe5 \\n\\xe2 \\n\\xdf editor 's note : in our behind the scenes series , cnn correspondents share their experiences in covering news and analyze the stories behind the events . here , soledad o'brien takes users inside a jail where many of the inmates are mentally ill . an inmate housed on the `` forgotten floor , '' where many mentally ill inmates are housed in miami before trial . miami , florida -lrb- cnn -rrb- -- the ninth floor of the miami-dade pretrial detention facility is dubbed the `` forgotten floor . '' here , inmates with the most severe mental illnesses are incarcerated until they 're ready to appear in court . most often , they face drug charges or charges of assaulting an officer -- charges that judge steven leifman says are usually `` avoidable felonies . '' he says the arrests often result from confrontations with police . mentally ill people often wo n't do what they 're told when police arrive on the scene -- confrontation seems to exacerbate their illness and they become more paranoid , delusional , and less likely to follow directions , according to leifman . so , they end up on the ninth floor severely mentally disturbed , but not getting any real help because they 're in jail . we toured the jail with leifman . he is well known in miami as an advocate for justice and the mentally ill . even though we were not exactly welcomed with open arms by the guards , we were given permission to shoot videotape and tour the floor . go inside the ` forgotten floor ' '' at first , it 's hard to determine where the people are . the prisoners are wearing sleeveless robes . imagine cutting holes for arms and feet in a heavy wool sleeping bag -- that 's kind of what they look like . they 're designed to keep the mentally ill patients from injuring themselves . that 's also why they have no shoes , laces or mattresses . leifman says about one-third of all people in miami-dade county jails are mentally ill . so , he says , the sheer volume is overwhelming the system , and the result is what we see on the ninth floor . of course , it is a jail , so it 's not supposed to be warm and comforting , but the lights glare , the cells are tiny and it 's loud . we see two , sometimes three men -- sometimes in the robes , sometimes naked , lying or sitting in their cells . `` i am the son of the president . you need to get me out of here ! '' one man shouts at me . he is absolutely serious , convinced that help is on the way -- if only he could reach the white house . leifman tells me that these prisoner-patients will often circulate through the system , occasionally stabilizing in a mental hospital , only to return to jail to face their charges . it 's brutally unjust , in his mind , and he has become a strong advocate for changing things in miami . over a meal later , we talk about how things got this way for mental patients . leifman says 200 years ago people were considered `` lunatics '' and they were locked up in jails even if they had no charges against them . they were just considered unfit to be in society . over the years , he says , there was some public outcry , and the mentally ill were moved out of jails and into hospitals . but leifman says many of these mental hospitals were so horrible they were shut down . where did the patients go ? nowhere . the streets . they became , in many cases , the homeless , he says . they never got treatment . leifman says in 1955 there were more than half a million people in state mental hospitals , and today that number has been reduced 90 percent , and 40,000 to 50,000 people are in mental hospitals . the judge says he 's working to change this . starting in 2008 , many inmates who would otherwise have been brought to the `` forgotten floor '' will instead be sent to a new mental health facility -- the first step on a journey toward long-term treatment , not just punishment . leifman says it 's not the complete answer , but it 's a start . leifman says the best part is that it 's a win-win solution . the patients win , the families are relieved , and the state saves money by simply not cycling these prisoners through again and again . and , for leifman , justice is served . e-mail to a friend .\"\n"
     ]
    }
   ],
   "source": [
    "if os.path.isdir(outputpath):\n",
    "    logging.info(f\"'{outputpath}' already exists. deleting\")\n",
    "    shutil.rmtree(outputpath)\n",
    "    os.makedirs(outputpath, exist_ok=True)\n",
    "else:\n",
    "    logging.info(f\"Writing data to '{outputpath}'\")\n",
    "    os.makedirs(outputpath, exist_ok=True)\n",
    "\n",
    "def abstract2sents(abstract):\n",
    "    cur = 0\n",
    "    sents = []\n",
    "    while True:\n",
    "        try:\n",
    "            start_p = abstract.index(SENTENCE_START, cur)\n",
    "            end_p = abstract.index(SENTENCE_END, start_p + 1)\n",
    "            cur = end_p + len(SENTENCE_END)\n",
    "            sents.append(abstract[start_p+len(SENTENCE_START):end_p])\n",
    "        except ValueError as e: # no more sentences\n",
    "            return sents\n",
    "for file, (articles, summaries) in tqdm(zip(files, raw_data)):\n",
    "    outfile = os.path.join(outputpath, os.path.splitext(os.path.basename(file))[0] + '.pickle')\n",
    "\n",
    "    with open(outfile, 'wb') as f:\n",
    "        pickle.dump((articles, summaries), f, protocol=pickle.HIGHEST_PROTOCOL)   "
   ]
  },
  {
   "cell_type": "code",
   "execution_count": 5,
   "metadata": {},
   "outputs": [],
   "source": [
    "import struct"
   ]
  },
  {
   "cell_type": "code",
   "execution_count": null,
   "metadata": {},
   "outputs": [],
   "source": []
  }
 ],
 "metadata": {
  "kernelspec": {
   "display_name": "conda_tensorflow_p36",
   "language": "python",
   "name": "conda_tensorflow_p36"
  },
  "language_info": {
   "codemirror_mode": {
    "name": "ipython",
    "version": 3
   },
   "file_extension": ".py",
   "mimetype": "text/x-python",
   "name": "python",
   "nbconvert_exporter": "python",
   "pygments_lexer": "ipython3",
   "version": "3.6.5"
  }
 },
 "nbformat": 4,
 "nbformat_minor": 2
}

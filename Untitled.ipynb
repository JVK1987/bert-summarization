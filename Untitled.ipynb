{
 "cells": [
  {
   "cell_type": "code",
   "execution_count": 2,
   "metadata": {},
   "outputs": [
    {
     "name": "stderr",
     "output_type": "stream",
     "text": [
      "WARNING: Logging before flag parsing goes to stderr.\n",
      "W0523 10:47:54.828753 140470533379904 __init__.py:56] Some hub symbols are not available because TensorFlow version is less than 1.14\n"
     ]
    }
   ],
   "source": [
    "import os\n",
    "import pandas as pd\n",
    "import numpy as np\n",
    "import tensorflow as tf\n",
    "import tensorflow_hub as hub"
   ]
  },
  {
   "cell_type": "code",
   "execution_count": 3,
   "metadata": {},
   "outputs": [
    {
     "name": "stdout",
     "output_type": "stream",
     "text": [
      "WARNING:tensorflow:From /home/ec2-user/anaconda3/envs/tensorflow_p36/lib/python3.6/site-packages/tensorflow/python/ops/control_flow_ops.py:3632: colocate_with (from tensorflow.python.framework.ops) is deprecated and will be removed in a future version.\n",
      "Instructions for updating:\n",
      "Colocations handled automatically by placer.\n"
     ]
    },
    {
     "name": "stderr",
     "output_type": "stream",
     "text": [
      "W0523 10:48:31.808344 140470533379904 deprecation.py:323] From /home/ec2-user/anaconda3/envs/tensorflow_p36/lib/python3.6/site-packages/tensorflow/python/ops/control_flow_ops.py:3632: colocate_with (from tensorflow.python.framework.ops) is deprecated and will be removed in a future version.\n",
      "Instructions for updating:\n",
      "Colocations handled automatically by placer.\n"
     ]
    },
    {
     "name": "stdout",
     "output_type": "stream",
     "text": [
      "INFO:tensorflow:Saver not created because there are no variables in the graph to restore\n"
     ]
    },
    {
     "name": "stderr",
     "output_type": "stream",
     "text": [
      "I0523 10:48:34.075815 140470533379904 saver.py:1489] Saver not created because there are no variables in the graph to restore\n"
     ]
    },
    {
     "name": "stdout",
     "output_type": "stream",
     "text": [
      "WARNING:tensorflow:From /home/ec2-user/anaconda3/envs/tensorflow_p36/lib/python3.6/site-packages/tensorflow/python/data/ops/dataset_ops.py:429: py_func (from tensorflow.python.ops.script_ops) is deprecated and will be removed in a future version.\n",
      "Instructions for updating:\n",
      "tf.py_func is deprecated in TF V2. Instead, use\n",
      "    tf.py_function, which takes a python function which manipulates tf eager\n",
      "    tensors instead of numpy arrays. It's easy to convert a tf eager tensor to\n",
      "    an ndarray (just call tensor.numpy()) but having access to eager tensors\n",
      "    means `tf.py_function`s can use accelerators such as GPUs as well as\n",
      "    being differentiable using a gradient tape.\n",
      "    \n"
     ]
    },
    {
     "name": "stderr",
     "output_type": "stream",
     "text": [
      "W0523 10:48:35.162033 140470533379904 deprecation.py:323] From /home/ec2-user/anaconda3/envs/tensorflow_p36/lib/python3.6/site-packages/tensorflow/python/data/ops/dataset_ops.py:429: py_func (from tensorflow.python.ops.script_ops) is deprecated and will be removed in a future version.\n",
      "Instructions for updating:\n",
      "tf.py_func is deprecated in TF V2. Instead, use\n",
      "    tf.py_function, which takes a python function which manipulates tf eager\n",
      "    tensors instead of numpy arrays. It's easy to convert a tf eager tensor to\n",
      "    an ndarray (just call tensor.numpy()) but having access to eager tensors\n",
      "    means `tf.py_function`s can use accelerators such as GPUs as well as\n",
      "    being differentiable using a gradient tape.\n",
      "    \n"
     ]
    },
    {
     "name": "stdout",
     "output_type": "stream",
     "text": [
      "'prepare_data' 38.38 s\n"
     ]
    }
   ],
   "source": [
    "from ops.data import prepare_data\n",
    "from ops.data import BERT_MODEL_URL\n",
    "    \n",
    "     \n",
    "docs = [\n",
    "    'First you need to try',\n",
    "    'Then you need to try it harder'\n",
    "]        \n",
    "    \n",
    "batches, num_batches, num_samples = prepare_data(\n",
    "    inputpath='data/cnn-dm/chunked/train/',\n",
    "    batch_size=12\n",
    ")    \n",
    "\n"
   ]
  },
  {
   "cell_type": "code",
   "execution_count": 11,
   "metadata": {},
   "outputs": [
    {
     "data": {
      "text/plain": [
       "array([[0, 1],\n",
       "       [0, 1]])"
      ]
     },
     "execution_count": 11,
     "metadata": {},
     "output_type": "execute_result"
    }
   ],
   "source": [
    "a = np.array([[0,1,2], [0,1,2]])\n",
    "\n",
    "a[:, :-1]"
   ]
  },
  {
   "cell_type": "code",
   "execution_count": 4,
   "metadata": {},
   "outputs": [
    {
     "name": "stdout",
     "output_type": "stream",
     "text": [
      "[  101  2011  1012 17235 11510 25957  4886  1012  2405  1024  1012  2324\n",
      "  1024  2538  9765  1010  2260  2257  2286  1012  1064  1012  7172  1024\n",
      "  1012  2324  1024  5179  9765  1010  2260  2257  2286  1012  4840  4808\n",
      "  1999 11382  4095  2102  9028  2187  2184  2111  5229  1010  2164  2019\n",
      "  3353  9133  1997  2610  1011  1048 15185  1011  2004  2361  1011 25269\n",
      "  2497  1011  1010  2004  1046  1004  1047  2188  2704  7842  3501 27875\n",
      " 10781 11382  2818  4135  2080  5295  2013  1996  5239  2006  6928  2058\n",
      " 13519  1997  4297 15402  4808  1999  1996  2237  1012  4390  2318  2006\n",
      "  6928  2043  2610  2699  2000  2644 13337  2013 10998  2000  1996 11041\n",
      " 21095  2181  1999 11382  4095  2102  9028 13366 14147  1996 12731 12881\n",
      "  7974  1999  1996  2237  1012  1996 12731 12881  7974  2038  2042  1999\n",
      "  2173  1999 11382  4095  2102  9028  1998  2809  2060  4733  1997 21433\n",
      "  2144  5958  2043 15029  4808 12591  1999 11382  4095  2102  9028  2237\n",
      "  4288  2093  2111  1998 22736  2058  2382  1012 13249  1024  1046  1004\n",
      "  1047  3036  5073  5252  2185  6186  5668  2012  1037  2233  2076  1996\n",
      "  2334 12731 12881  7974  1012  2702  2111  2020  5229  1999  1996 17783\n",
      "  1012 10575  2020 21248  2114  1996  6545  1997  1037  3360  2005  2010\n",
      "  6884  6624  1999  5958  1005  1055 13249  1012  2004  2361 13970 20850\n",
      "  4313  5960  1998  1037  4989  3694 12294  2020  2426  2416  2111  5229\n",
      "  1999  1996 17783  2006  6928  1012  2610  2056  2176 19809  2020  5229\n",
      "  2006  4465  2305  1999 11382  4095  2102  9028  2043  4242 28616 16748\n",
      " 11390  4457  2037  4316  1998  2275  2009  2006  2543  1012  2035  1011\n",
      "  2283  3113  1012  2000  5383  1996 15029  6980  1010  2708  2704 13192\n",
      " 14093 12282  2019  2035  1011  2283  3116  1999 21433  1012  2002  2409\n",
      "  1996  4177  2556  1999  1996  3116  2008  1996  2110  2231  2038  3641\n",
      "  1037  2051  1011  5391  8268  9934  2046  1996  4808  2011  1037  3394\n",
      "  3648  1997  1996  2152  2457  1012  7842  3501 27875 10781 11382  2818\n",
      "  4135  2080  1010  1996 18619  2013 11382  4095  2102  9028  3183  1996\n",
      " 24954  2003 16723  1997 16021  3775 16961  4808  1999  1996  2237  1010\n",
      "  2056  2144  1996  2708  2704  2038  3641  1037 15113  2046  1996  5043\n",
      "  1010  2002  2038  5295  2061  2008  1996  4812  2003  2489  1998  4189\n",
      "  1012  8172  1024 21433  1998 13329  2188  2704  7842  3501 27875 10208\n",
      " 11382  2818  4135  2080 15885  2044  8616  2075  2010  8172  2058  9989\n",
      "  2008  2002  2018 17999  1996 11382  4095  2102  9028  4808  1012  1036\n",
      "  1036  2013 21433  2000  2047  6768  1010  1996 24954  2106  2673  2000\n",
      " 16007 16206  2026  3746  1012  2026  3739  1999 11382  4095  2102  9028\n",
      "  5552  5606  1997  3268  1998  2111  2013  2119  4279  1011  7486  1998\n",
      " 18221  1011  2031  4752  2006  2033  1012  1036  1036  2021  1996 24954\n",
      "  4122  2000  3443  2576  3007  2041  1997 11382  4095  2102  9028 12925\n",
      "  1012  1045  2052  9772  2068  2008  3382  1012  2026 10644 22496  2064\n",
      "  2025  2022 12979  1012  1045  2131  4494  2013  2119  1996  4279  1010\n",
      "  1005  1005 11382  2818  4135  2080  2409  5653  2651  1012  8172  1012\n",
      " 11382  2818  4135  2080  2001  1999 11382   102]\n",
      "<class 'numpy.ndarray'>\n",
      "[  101  2011  1012 17235 11510 25957  4886  1012  2405  1024  1012  2324\n",
      "  1024  2538  9765  1010  2260  2257  2286  1012  1064  1012  7172  1024\n",
      "  1012  2324  1024  5179  9765  1010  2260  2257  2286  1012  4840  4808\n",
      "  1999 11382  4095  2102  9028  2187  2184  2111  5229  1010  2164  2019\n",
      "  3353  9133  1997  2610  1011  1048 15185  1011  2004  2361  1011 25269\n",
      "  2497  1011  1010  2004  1046  1004  1047  2188  2704  7842  3501 27875\n",
      " 10781 11382  2818  4135  2080  5295  2013  1996  5239  2006  6928  2058\n",
      " 13519  1997  4297 15402  4808  1999  1996  2237  1012  4390  2318  2006\n",
      "  6928  2043  2610  2699  2000  2644 13337  2013 10998  2000  1996 11041\n",
      " 21095  2181  1999 11382  4095  2102  9028 13366 14147  1996 12731 12881\n",
      "  7974  1999  1996  2237  1012  1996 12731 12881  7974  2038  2042  1999\n",
      "  2173  1999 11382  4095  2102  9028  1998  2809  2060  4733  1997 21433\n",
      "  2144  5958  2043 15029  4808 12591  1999 11382  4095  2102  9028  2237\n",
      "  4288  2093  2111  1998 22736  2058  2382  1012 13249  1024  1046  1004\n",
      "  1047  3036  5073  5252  2185  6186  5668  2012  1037  2233  2076  1996\n",
      "  2334 12731 12881  7974  1012  2702  2111  2020  5229  1999  1996 17783\n",
      "  1012 10575  2020 21248  2114  1996  6545  1997  1037  3360  2005  2010\n",
      "  6884  6624  1999  5958  1005  1055 13249  1012  2004  2361 13970 20850\n",
      "  4313  5960  1998  1037  4989  3694 12294  2020  2426  2416  2111  5229\n",
      "  1999  1996 17783  2006  6928  1012  2610  2056  2176 19809  2020  5229\n",
      "  2006  4465  2305  1999 11382  4095  2102  9028  2043  4242 28616 16748\n",
      " 11390  4457  2037  4316  1998  2275  2009  2006  2543  1012  2035  1011\n",
      "  2283  3113  1012  2000  5383  1996 15029  6980  1010  2708  2704 13192\n",
      " 14093 12282  2019  2035  1011  2283  3116  1999 21433  1012  2002  2409\n",
      "  1996  4177  2556  1999  1996  3116  2008  1996  2110  2231  2038  3641\n",
      "  1037  2051  1011  5391  8268  9934  2046  1996  4808  2011  1037  3394\n",
      "  3648  1997  1996  2152  2457  1012  7842  3501 27875 10781 11382  2818\n",
      "  4135  2080  1010  1996 18619  2013 11382  4095  2102  9028  3183  1996\n",
      " 24954  2003 16723  1997 16021  3775 16961  4808  1999  1996  2237  1010\n",
      "  2056  2144  1996  2708  2704  2038  3641  1037 15113  2046  1996  5043\n",
      "  1010  2002  2038  5295  2061  2008  1996  4812  2003  2489  1998  4189\n",
      "  1012  8172  1024 21433  1998 13329  2188  2704  7842  3501 27875 10208\n",
      " 11382  2818  4135  2080 15885  2044  8616  2075  2010  8172  2058  9989\n",
      "  2008  2002  2018 17999  1996 11382  4095  2102  9028  4808  1012  1036\n",
      "  1036  2013 21433  2000  2047  6768  1010  1996 24954  2106  2673  2000\n",
      " 16007 16206  2026  3746  1012  2026  3739  1999 11382  4095  2102  9028\n",
      "  5552  5606  1997  3268  1998  2111  2013  2119  4279  1011  7486  1998\n",
      " 18221  1011  2031  4752  2006  2033  1012  1036  1036  2021  1996 24954\n",
      "  4122  2000  3443  2576  3007  2041  1997 11382  4095  2102  9028 12925\n",
      "  1012  1045  2052  9772  2068  2008  3382  1012  2026 10644 22496  2064\n",
      "  2025  2022 12979  1012  1045  2131  4494  2013  2119  1996  4279  1010\n",
      "  1005  1005 11382  2818  4135  2080  2409  5653  2651  1012  8172  1012\n",
      " 11382  2818  4135  2080  2001  1999 11382   102]\n",
      "[1 1 1 1 1 1 1 1 1 1 1 1 1 1 1 1 1 1 1 1 1 1 1 1 1 1 1 1 1 1 1 1 1 1 1 1 1\n",
      " 1 1 1 1 1 1 1 1 1 1 1 1 1 1 1 1 1 1 1 1 1 1 1 1 1 1 1 1 1 1 1 1 1 1 1 1 1\n",
      " 1 1 1 1 1 1 1 1 1 1 1 1 1 1 1 1 1 1 1 1 1 1 1 1 1 1 1 1 1 1 1 1 1 1 1 1 1\n",
      " 1 1 1 1 1 1 1 1 1 1 1 1 1 1 1 1 1 1 1 1 1 1 1 1 1 1 1 1 1 1 1 1 1 1 1 1 1\n",
      " 1 1 1 1 1 1 1 1 1 1 1 1 1 1 1 1 1 1 1 1 1 1 1 1 1 1 1 1 1 1 1 1 1 1 1 1 1\n",
      " 1 1 1 1 1 1 1 1 1 1 1 1 1 1 1 1 1 1 1 1 1 1 1 1 1 1 1 1 1 1 1 1 1 1 1 1 1\n",
      " 1 1 1 1 1 1 1 1 1 1 1 1 1 1 1 1 1 1 1 1 1 1 1 1 1 1 1 1 1 1 1 1 1 1 1 1 1\n",
      " 1 1 1 1 1 1 1 1 1 1 1 1 1 1 1 1 1 1 1 1 1 1 1 1 1 1 1 1 1 1 1 1 1 1 1 1 1\n",
      " 1 1 1 1 1 1 1 1 1 1 1 1 1 1 1 1 1 1 1 1 1 1 1 1 1 1 1 1 1 1 1 1 1 1 1 1 1\n",
      " 1 1 1 1 1 1 1 1 1 1 1 1 1 1 1 1 1 1 1 1 1 1 1 1 1 1 1 1 1 1 1 1 1 1 1 1 1\n",
      " 1 1 1 1 1 1 1 1 1 1 1 1 1 1 1 1 1 1 1 1 1 1 1 1 1 1 1 1 1 1 1 1 1 1 1 1 1\n",
      " 1 1 1 1 1 1 1 1 1 1 1 1 1 1 1 1 1 1 1 1 1 1 1 1 1 1 1 1 1 1 1 1 1 1 1 1 1\n",
      " 1 1 1 1 1 1 1 1 1 1 1 1 1 1 1 1 1 1 1 1 1 1 1 1 1 1 1 1 1 1 1 1 1 1 1 1 1\n",
      " 1 1 1 1 1 1 1 1 1 1 1 1 1 1 1 1 1 1 1 1 1 1 1 1 1 1 1 1 1 1 1]\n",
      "[0 0 0 0 0 0 0 0 0 0 0 0 0 0 0 0 0 0 0 0 0 0 0 0 0 0 0 0 0 0 0 0 0 0 0 0 0\n",
      " 0 0 0 0 0 0 0 0 0 0 0 0 0 0 0 0 0 0 0 0 0 0 0 0 0 0 0 0 0 0 0 0 0 0 0 0 0\n",
      " 0 0 0 0 0 0 0 0 0 0 0 0 0 0 0 0 0 0 0 0 0 0 0 0 0 0 0 0 0 0 0 0 0 0 0 0 0\n",
      " 0 0 0 0 0 0 0 0 0 0 0 0 0 0 0 0 0 0 0 0 0 0 0 0 0 0 0 0 0 0 0 0 0 0 0 0 0\n",
      " 0 0 0 0 0 0 0 0 0 0 0 0 0 0 0 0 0 0 0 0 0 0 0 0 0 0 0 0 0 0 0 0 0 0 0 0 0\n",
      " 0 0 0 0 0 0 0 0 0 0 0 0 0 0 0 0 0 0 0 0 0 0 0 0 0 0 0 0 0 0 0 0 0 0 0 0 0\n",
      " 0 0 0 0 0 0 0 0 0 0 0 0 0 0 0 0 0 0 0 0 0 0 0 0 0 0 0 0 0 0 0 0 0 0 0 0 0\n",
      " 0 0 0 0 0 0 0 0 0 0 0 0 0 0 0 0 0 0 0 0 0 0 0 0 0 0 0 0 0 0 0 0 0 0 0 0 0\n",
      " 0 0 0 0 0 0 0 0 0 0 0 0 0 0 0 0 0 0 0 0 0 0 0 0 0 0 0 0 0 0 0 0 0 0 0 0 0\n",
      " 0 0 0 0 0 0 0 0 0 0 0 0 0 0 0 0 0 0 0 0 0 0 0 0 0 0 0 0 0 0 0 0 0 0 0 0 0\n",
      " 0 0 0 0 0 0 0 0 0 0 0 0 0 0 0 0 0 0 0 0 0 0 0 0 0 0 0 0 0 0 0 0 0 0 0 0 0\n",
      " 0 0 0 0 0 0 0 0 0 0 0 0 0 0 0 0 0 0 0 0 0 0 0 0 0 0 0 0 0 0 0 0 0 0 0 0 0\n",
      " 0 0 0 0 0 0 0 0 0 0 0 0 0 0 0 0 0 0 0 0 0 0 0 0 0 0 0 0 0 0 0 0 0 0 0 0 0\n",
      " 0 0 0 0 0 0 0 0 0 0 0 0 0 0 0 0 0 0 0 0 0 0 0 0 0 0 0 0 0 0 0]\n",
      "512\n",
      "b\"by . naseer ganai . published : . 18:21 est , 12 august 2013 . | . updated : . 18:56 est , 12 august 2013 . fresh violence in kishtwar left 10 people injured , including an assistant superintendent of police -lrb- asp -rrb- , as j&k home minister sajjad ahmad kichloo resigned from the cabinet on monday over accusations of inciting violence in the town . trouble started on monday when police tried to stop protesters from marching to the hidyal area in kishtwar defying the curfew in the town . the curfew has been in place in kishtwar and eight other districts of jammu since friday when communal violence erupted in kishtwar town killing three people and injuring over 30 . clash : j&k security personnel chase away protestors at a march during the local curfew . ten people were injured in the clashes . locals were protesting against the arrest of a youth for his alleged involvement in friday 's clash . asp kulbir singh and a selection grade constable were among six people injured in the clashes on monday . police said four policemen were injured on sunday night in kishtwar when unknown miscreants attacked their vehicle and set it on fire . all-party meet . to contain the communal tension , chief minister omar abdullah chaired an all-party meeting in jammu . he told the leaders present in the meeting that the state government has ordered a time-bound judicial inquiry into the violence by a retired judge of the high court . sajjad ahmad kichloo , the mla from kishtwar whom the bjp is accusing of instigating violence in the town , said since the chief minister has ordered a probe into the incident , he has resigned so that the investigation is free and fair . resignation : jammu and kashmir home minister sajjad ahmed kichloo pictured after tendering his resignation over allegations that he had fueled the kishtwar violence . `` from jammu to new delhi , the bjp did everything to malign my image . my presence in kishtwar saved hundreds of lives and people from both communities - muslims and hindus - have faith on me . `` but the bjp wants to create political capital out of kishtwar riots . i would deny them that chance . my secular credentials can not be doubted . i get votes from both the communities , '' kichloo told mail today . resignation . kichloo was in kishtwar , which is his hometown and home constituency , when the riots broke out in the district after eid prayers . he said his uncle had died and it was the reason he was in the constituency . `` my family and i have a track record of 60 years in politics . my father late bashir ahmad kichloo and i have always stood for probity and transparency in public life and secularism has been the bedrock of our political ideology , '' 45-year-old kichloo said . reminding the bjp of 2002 riots in . gujarat , kichloo said : `` i take strong exception to what mr arun jaitley . has said . did modi resign after gujarat ? what happened to amit shah who . is now the star campaigner of the bjp in uttar pradesh ? `` those who live in glass houses should not throw stones on others . '' omar abdullah , too , hit out at the bjp after the latter created uproar over kishtwar riots in parliament . reminding . the saffron party of 2002 gujarat riots , he tweeted : `` would -lrb- arun -rrb- . jaitley be so kind as to inform parliament whether the gujarat home . minister or mos home resigned or even offered to in 2002 ! '' omar also . identified the three persons killed in the violence . `` three . unfortunate deaths - 1 hindu , 2 muslim and we 've a judicial inquiry . with my minister resigning . would the bjp care to recount 2002 . response ? '' angry omar . soon after the violence broke out in kishtwar , the jammu and kashmir government had called out the army for a flag march in the town . `` oh that 's right they ca n't because their star pm hopeful waited days to call out the army and has yet to apologise . hypocrites , '' omar 's third tweet read . the opposition peoples democratic party accused the chief minister of playing `` communal politics '' by disclosing that two muslims and one hindu were killed in the clashes . party president mehbooba mufti said the chief minister had no business to divide victims on religious lines . `` he made it communal , '' mehbooba said . a government spokesman said omar has announced immediate relief of up to rs 2 lakh each in favour of affected house owners and shopkeepers whose properties have been damaged or looted in the clashes . unhappy with the state government 's response in handling the violence in kishtwar , the ministry of home affairs has sent a law and order maintenance advisory to omar . in the advisory , the home ministry has told the state government that the violence may spread to other parts and asked it to ensure that no such incident is repeated anywhere else . assuring all help , the centre said adequate forces would be deployed in all sensitive places to maintain law and order . police on monday arrested jammu kashmir liberation front chairman muhammad yasin malik . malik had planned to go for peaceful march against kishtwar violence . free hand : defence minister a k antony has given a clear message to army commanders that they are free to respond to ceasefire violations as they see fit . by gautam datt . fireworks are expected to intensify on the line of control -lrb- loc -rrb- as the army has been given a free hand by the government to respond appropriately to ceasefire violations in the wake of the killing of five indian soldiers by pakistan army regulars in poonch sector last week . the message has gone loud and clear to formation commanders by indian army chief general bikram singh and he has also advised them to remain aggressive while guarding the sanctity of the loc . sources said local formations have been asked to retaliate with force any violation of ceasefire through heavy fire . apart from the loc , even the international border has witnessed flare ups in recent days with firing also reported from the jammu sector . pakistan has claimed one of its civilians has been killed in the firing in sialkot . sources said there was no ambiguity that pakistan army regulars were behind the poonch killing and it was sternly conveyed to the pakistan army when director generals of military operations of two sides spoke to each other a day after the incident . the indian army will now respond at a tactical level either through heavy retaliatory firing or by making cross border raids . by qaswar abbas and agencies . the nawaz sharif government has no immediate plan to grant the most favoured nation -lrb- mfn -rrb- status to india , pakistan finance minister ishaq dar said on monday . `` there is no immediate consideration to grant india mfn status , '' dar told hamid mir on geo news program ` capital talk ' . denial : pakistan prime minister nawaz sharif 's government has denied that the country 's army were involved in recent breaches of the loc . at the same time , he stressed on normalising ties with new delhi on a number of issues . it must be noted that india had granted mfn status to pakistan in 1996 . for the past few days , the two neighbours have traded charges regarding loc ceasefire violations . tension along the loc was sparked following the killing of five indian jawans in poonch sector on august 6 . while new delhi has accused pakistani troops of killing its soldiers , islamabad has denied involvement of its forces . earlier , there were reports stating that pakistan has deployed additional troops in kasur and okara districts . the pakistan 's defence ministry , however , denied the reports . `` reports suggesting deployment of pakistani troops across the loc or adjacent districts are not true . prime minister nawaz sharif himself is in-charge of ministry of defence that allows deployment of troops anywhere in country . he did not issue any such directive , '' a senior official of the ministry told mail today . meanwhile , the ministry of foreign affairs summoned indian deputy high commissioner gopal baglay to convey its concern over bsf firing from across the loc . `` the foreign office summoned the indian deputy high commissioner this afternoon to raise this concern which has resulted in the loss of an innocent civilian life in rawalakot , '' a mofa spokesperson said .\"\n"
     ]
    },
    {
     "ename": "NameError",
     "evalue": "name 'tmp3' is not defined",
     "output_type": "error",
     "traceback": [
      "\u001b[0;31m---------------------------------------------------------------------------\u001b[0m",
      "\u001b[0;31mNameError\u001b[0m                                 Traceback (most recent call last)",
      "\u001b[0;32m<ipython-input-4-640acd577cdb>\u001b[0m in \u001b[0;36m<module>\u001b[0;34m()\u001b[0m\n\u001b[1;32m     23\u001b[0m \u001b[0;34m\u001b[0m\u001b[0m\n\u001b[1;32m     24\u001b[0m \u001b[0;34m\u001b[0m\u001b[0m\n\u001b[0;32m---> 25\u001b[0;31m     \u001b[0mprint\u001b[0m\u001b[0;34m(\u001b[0m\u001b[0mtmp3\u001b[0m\u001b[0;34m)\u001b[0m\u001b[0;34m\u001b[0m\u001b[0m\n\u001b[0m",
      "\u001b[0;31mNameError\u001b[0m: name 'tmp3' is not defined"
     ]
    }
   ],
   "source": [
    "iterator = batches.make_one_shot_iterator()\n",
    "\n",
    "tmp = iterator.get_next()\n",
    "\n",
    "with tf.Session() as session:\n",
    "    \n",
    "    tmp2 = session.run(tmp)\n",
    "    a = tmp2[0][0][0]\n",
    "    b = tmp2[0][1][0]\n",
    "    c = tmp2[0][2][0]\n",
    "    d = tmp2[0][3][0]\n",
    "    e = tmp2[0][4][0]\n",
    "    \n",
    "    print(a)\n",
    "    print(type(a))\n",
    "    print(a)    \n",
    "    print(b)\n",
    "    print(c)    \n",
    "    print(d)\n",
    "    print(e)\n",
    "    \n",
    "    \n",
    "\n",
    "    \n",
    "    print(tmp3)"
   ]
  },
  {
   "cell_type": "code",
   "execution_count": 5,
   "metadata": {},
   "outputs": [],
   "source": [
    "bert_model = hub.Module(\n",
    "    BERT_MODEL_URL,\n",
    "    trainable=False,\n",
    "    name=\"bert_module\"\n",
    ")\n"
   ]
  },
  {
   "cell_type": "code",
   "execution_count": 6,
   "metadata": {},
   "outputs": [
    {
     "name": "stdout",
     "output_type": "stream",
     "text": [
      "INFO:tensorflow:Saver not created because there are no variables in the graph to restore\n"
     ]
    },
    {
     "name": "stderr",
     "output_type": "stream",
     "text": [
      "I0523 10:49:01.128837 140470533379904 saver.py:1489] Saver not created because there are no variables in the graph to restore\n"
     ]
    }
   ],
   "source": [
    "bert_inputs = dict(\n",
    "  input_ids=np.expand_dims(a, axis=0),\n",
    "  input_mask=np.expand_dims(b, axis=0),\n",
    "  segment_ids=np.expand_dims(b, axis=0)\n",
    ")\n",
    "\n",
    "tmp3 = bert_model(\n",
    "  inputs=bert_inputs,\n",
    "  signature=\"tokens\",\n",
    "  as_dict=True\n",
    ")"
   ]
  },
  {
   "cell_type": "code",
   "execution_count": 7,
   "metadata": {},
   "outputs": [
    {
     "data": {
      "text/plain": [
       "{'sequence_output': <tf.Tensor 'bert_module_apply_tokens/bert/encoder/Reshape_13:0' shape=(1, 512, 768) dtype=float32>,\n",
       " 'pooled_output': <tf.Tensor 'bert_module_apply_tokens/bert/pooler/dense/Tanh:0' shape=(1, 768) dtype=float32>}"
      ]
     },
     "execution_count": 7,
     "metadata": {},
     "output_type": "execute_result"
    }
   ],
   "source": [
    "tmp3"
   ]
  },
  {
   "cell_type": "code",
   "execution_count": 30,
   "metadata": {},
   "outputs": [
    {
     "data": {
      "text/plain": [
       "[\" mentally ill inmates in miami are housed on the `` forgotten floor '' \",\n",
       " \" judge steven leifman says most are there as a result of `` avoidable felonies '' \",\n",
       " \" while cnn tours facility , patient shouts : `` i am the son of the president '' \",\n",
       " \" leifman says the system is unjust and he 's fighting for change . \"]"
      ]
     },
     "execution_count": 30,
     "metadata": {},
     "output_type": "execute_result"
    }
   ],
   "source": [
    "import re\n",
    "\n",
    "text = \"\"\"\n",
    "<s> mentally ill inmates in miami are housed on the `` forgotten floor '' </s> <s> judge steven leifman says most are there as a result of `` avoidable felonies '' </s> <s> while cnn tours facility , patient shouts : `` i am the son of the president '' </s> <s> leifman says the system is unjust and he 's fighting for change . </s>\n",
    "\"\"\"\n",
    "\n",
    "abstract_sentences = re.compile(r\"<s>(.+?)<\\/s>\")\n",
    "\n",
    "abstract_sentences.findall(text)"
   ]
  },
  {
   "cell_type": "code",
   "execution_count": 116,
   "metadata": {},
   "outputs": [
    {
     "name": "stdout",
     "output_type": "stream",
     "text": [
      "[1, 2, 3]\n"
     ]
    },
    {
     "data": {
      "text/plain": [
       "[[1], [2], [3], 4, 5, 6, [1], [2], [3], 4, 5, 6]"
      ]
     },
     "execution_count": 116,
     "metadata": {},
     "output_type": "execute_result"
    }
   ],
   "source": [
    "a = [[1],[2],[3]]\n",
    "b = [4,5,6]\n",
    "\n",
    "print(sum(a, []))\n",
    "\n",
    "tmp = ((a, b) for i in [a, b])\n",
    "list(flatten(flatten(tmp)))"
   ]
  },
  {
   "cell_type": "code",
   "execution_count": null,
   "metadata": {},
   "outputs": [],
   "source": [
    "train = convert_examples_to_features(tokenizer, train_examples, max_seq_length=MAX_SEQ_LEN)\n",
    "train_input_ids, train_input_masks, train_segment_ids, train_labels = train"
   ]
  },
  {
   "cell_type": "code",
   "execution_count": 35,
   "metadata": {},
   "outputs": [
    {
     "data": {
      "text/plain": [
       "<module 'bert.run_classifier' from '/home/ec2-user/anaconda3/envs/tensorflow_p36/lib/python3.6/site-packages/bert/run_classifier.py'>"
      ]
     },
     "execution_count": 35,
     "metadata": {},
     "output_type": "execute_result"
    }
   ],
   "source": [
    "bert.run_classifier"
   ]
  },
  {
   "cell_type": "code",
   "execution_count": 49,
   "metadata": {},
   "outputs": [
    {
     "data": {
      "text/plain": [
       "[1, 1, 1, 1]"
      ]
     },
     "execution_count": 49,
     "metadata": {},
     "output_type": "execute_result"
    }
   ],
   "source": [
    "def load_data(fpath1, fpath2, maxlen1, maxlen2):\n",
    "    '''Loads source and target data and filters out too lengthy samples.\n",
    "    fpath1: source file path. string.\n",
    "    fpath2: target file path. string.\n",
    "    maxlen1: source sent maximum length. scalar.\n",
    "    maxlen2: target sent maximum length. scalar.\n",
    "    Returns\n",
    "    sents1: list of source sents\n",
    "    sents2: list of target sents\n",
    "    '''\n",
    "    sents1, sents2 = [], []\n",
    "    with open(fpath1, 'r') as f1, open(fpath2, 'r') as f2:\n",
    "        for sent1, sent2 in zip(f1, f2):\n",
    "            if len(sent1.split()) + 1 > maxlen1: continue # 1: </s>\n",
    "            if len(sent2.split()) + 1 > maxlen2: continue  # 1: </s>\n",
    "            sents1.append(sent1.strip())\n",
    "            sents2.append(sent2.strip())\n",
    "    return sents1, sents2\n"
   ]
  },
  {
   "cell_type": "code",
   "execution_count": 12,
   "metadata": {},
   "outputs": [
    {
     "name": "stdout",
     "output_type": "stream",
     "text": [
      "b\"\\n\\xd6#\\n\\xdf\\x02\\n\\x08abstract\\x12\\xd2\\x02\\n\\xcf\\x02\\n\\xcc\\x02<s> mentally ill inmates in miami are housed on the `` forgotten floor '' </s> <s> judge steven leifman says most are there as a result of `` avoidable felonies '' </s> <s> while cnn tours facility , patient shouts : `` i am the son of the president '' </s> <s> leifman says the system is unjust and he 's fighting for change . </s>\\n\\xf1 \\n\\x07article\\x12\\xe5 \\n\\xe2 \\n\\xdf editor 's note : in our behind the scenes series , cnn correspondents share their experiences in covering news and analyze the stories behind the events . here , soledad o'brien takes users inside a jail where many of the inmates are mentally ill . an inmate housed on the `` forgotten floor , '' where many mentally ill inmates are housed in miami before trial . miami , florida -lrb- cnn -rrb- -- the ninth floor of the miami-dade pretrial detention facility is dubbed the `` forgotten floor . '' here , inmates with the most severe mental illnesses are incarcerated until they 're ready to appear in court . most often , they face drug charges or charges of assaulting an officer -- charges that judge steven leifman says are usually `` avoidable felonies . '' he says the arrests often result from confrontations with police . mentally ill people often wo n't do what they 're told when police arrive on the scene -- confrontation seems to exacerbate their illness and they become more paranoid , delusional , and less likely to follow directions , according to leifman . so , they end up on the ninth floor severely mentally disturbed , but not getting any real help because they 're in jail . we toured the jail with leifman . he is well known in miami as an advocate for justice and the mentally ill . even though we were not exactly welcomed with open arms by the guards , we were given permission to shoot videotape and tour the floor . go inside the ` forgotten floor ' '' at first , it 's hard to determine where the people are . the prisoners are wearing sleeveless robes . imagine cutting holes for arms and feet in a heavy wool sleeping bag -- that 's kind of what they look like . they 're designed to keep the mentally ill patients from injuring themselves . that 's also why they have no shoes , laces or mattresses . leifman says about one-third of all people in miami-dade county jails are mentally ill . so , he says , the sheer volume is overwhelming the system , and the result is what we see on the ninth floor . of course , it is a jail , so it 's not supposed to be warm and comforting , but the lights glare , the cells are tiny and it 's loud . we see two , sometimes three men -- sometimes in the robes , sometimes naked , lying or sitting in their cells . `` i am the son of the president . you need to get me out of here ! '' one man shouts at me . he is absolutely serious , convinced that help is on the way -- if only he could reach the white house . leifman tells me that these prisoner-patients will often circulate through the system , occasionally stabilizing in a mental hospital , only to return to jail to face their charges . it 's brutally unjust , in his mind , and he has become a strong advocate for changing things in miami . over a meal later , we talk about how things got this way for mental patients . leifman says 200 years ago people were considered `` lunatics '' and they were locked up in jails even if they had no charges against them . they were just considered unfit to be in society . over the years , he says , there was some public outcry , and the mentally ill were moved out of jails and into hospitals . but leifman says many of these mental hospitals were so horrible they were shut down . where did the patients go ? nowhere . the streets . they became , in many cases , the homeless , he says . they never got treatment . leifman says in 1955 there were more than half a million people in state mental hospitals , and today that number has been reduced 90 percent , and 40,000 to 50,000 people are in mental hospitals . the judge says he 's working to change this . starting in 2008 , many inmates who would otherwise have been brought to the `` forgotten floor '' will instead be sent to a new mental health facility -- the first step on a journey toward long-term treatment , not just punishment . leifman says it 's not the complete answer , but it 's a start . leifman says the best part is that it 's a win-win solution . the patients win , the families are relieved , and the state saves money by simply not cycling these prisoners through again and again . and , for leifman , justice is served . e-mail to a friend .\"\n"
     ]
    }
   ],
   "source": [
    "if os.path.isdir(outputpath):\n",
    "    logging.info(f\"'{outputpath}' already exists. deleting\")\n",
    "    shutil.rmtree(outputpath)\n",
    "    os.makedirs(outputpath, exist_ok=True)\n",
    "else:\n",
    "    logging.info(f\"Writing data to '{outputpath}'\")\n",
    "    os.makedirs(outputpath, exist_ok=True)\n",
    "\n",
    "def abstract2sents(abstract):\n",
    "    cur = 0\n",
    "    sents = []\n",
    "    while True:\n",
    "        try:\n",
    "            start_p = abstract.index(SENTENCE_START, cur)\n",
    "            end_p = abstract.index(SENTENCE_END, start_p + 1)\n",
    "            cur = end_p + len(SENTENCE_END)\n",
    "            sents.append(abstract[start_p+len(SENTENCE_START):end_p])\n",
    "        except ValueError as e: # no more sentences\n",
    "            return sents\n",
    "for file, (articles, summaries) in tqdm(zip(files, raw_data)):\n",
    "    outfile = os.path.join(outputpath, os.path.splitext(os.path.basename(file))[0] + '.pickle')\n",
    "\n",
    "    with open(outfile, 'wb') as f:\n",
    "        pickle.dump((articles, summaries), f, protocol=pickle.HIGHEST_PROTOCOL)   "
   ]
  },
  {
   "cell_type": "code",
   "execution_count": 5,
   "metadata": {},
   "outputs": [],
   "source": [
    "import struct"
   ]
  },
  {
   "cell_type": "code",
   "execution_count": null,
   "metadata": {},
   "outputs": [],
   "source": []
  }
 ],
 "metadata": {
  "kernelspec": {
   "display_name": "conda_tensorflow_p36",
   "language": "python",
   "name": "conda_tensorflow_p36"
  },
  "language_info": {
   "codemirror_mode": {
    "name": "ipython",
    "version": 3
   },
   "file_extension": ".py",
   "mimetype": "text/x-python",
   "name": "python",
   "nbconvert_exporter": "python",
   "pygments_lexer": "ipython3",
   "version": "3.6.5"
  }
 },
 "nbformat": 4,
 "nbformat_minor": 2
}
